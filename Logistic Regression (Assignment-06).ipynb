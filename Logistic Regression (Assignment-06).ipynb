{
 "cells": [
  {
   "cell_type": "code",
   "execution_count": 1,
   "id": "32deca47",
   "metadata": {},
   "outputs": [],
   "source": [
    "import pandas as pd\n",
    "import numpy as np\n",
    "import matplotlib.pyplot as plt\n",
    "from sklearn.preprocessing import LabelEncoder\n",
    "from sklearn.model_selection import train_test_split\n",
    "from sklearn.linear_model import LogisticRegression\n"
   ]
  },
  {
   "cell_type": "code",
   "execution_count": 2,
   "id": "d1a8fa31",
   "metadata": {},
   "outputs": [
    {
     "data": {
      "text/html": [
       "<div>\n",
       "<style scoped>\n",
       "    .dataframe tbody tr th:only-of-type {\n",
       "        vertical-align: middle;\n",
       "    }\n",
       "\n",
       "    .dataframe tbody tr th {\n",
       "        vertical-align: top;\n",
       "    }\n",
       "\n",
       "    .dataframe thead th {\n",
       "        text-align: right;\n",
       "    }\n",
       "</style>\n",
       "<table border=\"1\" class=\"dataframe\">\n",
       "  <thead>\n",
       "    <tr style=\"text-align: right;\">\n",
       "      <th></th>\n",
       "      <th>age</th>\n",
       "      <th>job</th>\n",
       "      <th>marital</th>\n",
       "      <th>education</th>\n",
       "      <th>default</th>\n",
       "      <th>balance</th>\n",
       "      <th>housing</th>\n",
       "      <th>loan</th>\n",
       "      <th>contact</th>\n",
       "      <th>day</th>\n",
       "      <th>month</th>\n",
       "      <th>duration</th>\n",
       "      <th>campaign</th>\n",
       "      <th>pdays</th>\n",
       "      <th>previous</th>\n",
       "      <th>poutcome</th>\n",
       "      <th>y</th>\n",
       "    </tr>\n",
       "  </thead>\n",
       "  <tbody>\n",
       "    <tr>\n",
       "      <th>0</th>\n",
       "      <td>58</td>\n",
       "      <td>management</td>\n",
       "      <td>married</td>\n",
       "      <td>tertiary</td>\n",
       "      <td>no</td>\n",
       "      <td>2143</td>\n",
       "      <td>yes</td>\n",
       "      <td>no</td>\n",
       "      <td>unknown</td>\n",
       "      <td>5</td>\n",
       "      <td>may</td>\n",
       "      <td>261</td>\n",
       "      <td>1</td>\n",
       "      <td>-1</td>\n",
       "      <td>0</td>\n",
       "      <td>unknown</td>\n",
       "      <td>no</td>\n",
       "    </tr>\n",
       "    <tr>\n",
       "      <th>1</th>\n",
       "      <td>44</td>\n",
       "      <td>technician</td>\n",
       "      <td>single</td>\n",
       "      <td>secondary</td>\n",
       "      <td>no</td>\n",
       "      <td>29</td>\n",
       "      <td>yes</td>\n",
       "      <td>no</td>\n",
       "      <td>unknown</td>\n",
       "      <td>5</td>\n",
       "      <td>may</td>\n",
       "      <td>151</td>\n",
       "      <td>1</td>\n",
       "      <td>-1</td>\n",
       "      <td>0</td>\n",
       "      <td>unknown</td>\n",
       "      <td>no</td>\n",
       "    </tr>\n",
       "    <tr>\n",
       "      <th>2</th>\n",
       "      <td>33</td>\n",
       "      <td>entrepreneur</td>\n",
       "      <td>married</td>\n",
       "      <td>secondary</td>\n",
       "      <td>no</td>\n",
       "      <td>2</td>\n",
       "      <td>yes</td>\n",
       "      <td>yes</td>\n",
       "      <td>unknown</td>\n",
       "      <td>5</td>\n",
       "      <td>may</td>\n",
       "      <td>76</td>\n",
       "      <td>1</td>\n",
       "      <td>-1</td>\n",
       "      <td>0</td>\n",
       "      <td>unknown</td>\n",
       "      <td>no</td>\n",
       "    </tr>\n",
       "    <tr>\n",
       "      <th>3</th>\n",
       "      <td>47</td>\n",
       "      <td>blue-collar</td>\n",
       "      <td>married</td>\n",
       "      <td>unknown</td>\n",
       "      <td>no</td>\n",
       "      <td>1506</td>\n",
       "      <td>yes</td>\n",
       "      <td>no</td>\n",
       "      <td>unknown</td>\n",
       "      <td>5</td>\n",
       "      <td>may</td>\n",
       "      <td>92</td>\n",
       "      <td>1</td>\n",
       "      <td>-1</td>\n",
       "      <td>0</td>\n",
       "      <td>unknown</td>\n",
       "      <td>no</td>\n",
       "    </tr>\n",
       "    <tr>\n",
       "      <th>4</th>\n",
       "      <td>33</td>\n",
       "      <td>unknown</td>\n",
       "      <td>single</td>\n",
       "      <td>unknown</td>\n",
       "      <td>no</td>\n",
       "      <td>1</td>\n",
       "      <td>no</td>\n",
       "      <td>no</td>\n",
       "      <td>unknown</td>\n",
       "      <td>5</td>\n",
       "      <td>may</td>\n",
       "      <td>198</td>\n",
       "      <td>1</td>\n",
       "      <td>-1</td>\n",
       "      <td>0</td>\n",
       "      <td>unknown</td>\n",
       "      <td>no</td>\n",
       "    </tr>\n",
       "  </tbody>\n",
       "</table>\n",
       "</div>"
      ],
      "text/plain": [
       "   age           job  marital  education default  balance housing loan  \\\n",
       "0   58    management  married   tertiary      no     2143     yes   no   \n",
       "1   44    technician   single  secondary      no       29     yes   no   \n",
       "2   33  entrepreneur  married  secondary      no        2     yes  yes   \n",
       "3   47   blue-collar  married    unknown      no     1506     yes   no   \n",
       "4   33       unknown   single    unknown      no        1      no   no   \n",
       "\n",
       "   contact  day month  duration  campaign  pdays  previous poutcome   y  \n",
       "0  unknown    5   may       261         1     -1         0  unknown  no  \n",
       "1  unknown    5   may       151         1     -1         0  unknown  no  \n",
       "2  unknown    5   may        76         1     -1         0  unknown  no  \n",
       "3  unknown    5   may        92         1     -1         0  unknown  no  \n",
       "4  unknown    5   may       198         1     -1         0  unknown  no  "
      ]
     },
     "execution_count": 2,
     "metadata": {},
     "output_type": "execute_result"
    }
   ],
   "source": [
    "bnk_f=pd.read_csv('F:/bank-full.csv',sep=';')\n",
    "bnk_f.head()"
   ]
  },
  {
   "cell_type": "code",
   "execution_count": 3,
   "id": "d54ae2d6",
   "metadata": {},
   "outputs": [
    {
     "data": {
      "text/plain": [
       "(45211, 17)"
      ]
     },
     "execution_count": 3,
     "metadata": {},
     "output_type": "execute_result"
    }
   ],
   "source": [
    "bnk_f.shape"
   ]
  },
  {
   "cell_type": "code",
   "execution_count": 4,
   "id": "c5915ad3",
   "metadata": {
    "scrolled": true
   },
   "outputs": [
    {
     "data": {
      "text/plain": [
       "unknown    36959\n",
       "failure     4901\n",
       "other       1840\n",
       "success     1511\n",
       "Name: poutcome, dtype: int64"
      ]
     },
     "execution_count": 4,
     "metadata": {},
     "output_type": "execute_result"
    }
   ],
   "source": [
    "bnk_f['poutcome'].value_counts()"
   ]
  },
  {
   "cell_type": "code",
   "execution_count": null,
   "id": "00d2f7cd",
   "metadata": {},
   "outputs": [],
   "source": []
  },
  {
   "cell_type": "code",
   "execution_count": 5,
   "id": "ff232c3f",
   "metadata": {},
   "outputs": [
    {
     "data": {
      "text/html": [
       "<div>\n",
       "<style scoped>\n",
       "    .dataframe tbody tr th:only-of-type {\n",
       "        vertical-align: middle;\n",
       "    }\n",
       "\n",
       "    .dataframe tbody tr th {\n",
       "        vertical-align: top;\n",
       "    }\n",
       "\n",
       "    .dataframe thead th {\n",
       "        text-align: right;\n",
       "    }\n",
       "</style>\n",
       "<table border=\"1\" class=\"dataframe\">\n",
       "  <thead>\n",
       "    <tr style=\"text-align: right;\">\n",
       "      <th></th>\n",
       "      <th>age</th>\n",
       "      <th>education</th>\n",
       "      <th>balance</th>\n",
       "      <th>contact</th>\n",
       "      <th>duration</th>\n",
       "      <th>campaign</th>\n",
       "      <th>pdays</th>\n",
       "      <th>previous</th>\n",
       "      <th>y</th>\n",
       "    </tr>\n",
       "  </thead>\n",
       "  <tbody>\n",
       "    <tr>\n",
       "      <th>0</th>\n",
       "      <td>58</td>\n",
       "      <td>tertiary</td>\n",
       "      <td>2143</td>\n",
       "      <td>unknown</td>\n",
       "      <td>261</td>\n",
       "      <td>1</td>\n",
       "      <td>-1</td>\n",
       "      <td>0</td>\n",
       "      <td>no</td>\n",
       "    </tr>\n",
       "    <tr>\n",
       "      <th>1</th>\n",
       "      <td>44</td>\n",
       "      <td>secondary</td>\n",
       "      <td>29</td>\n",
       "      <td>unknown</td>\n",
       "      <td>151</td>\n",
       "      <td>1</td>\n",
       "      <td>-1</td>\n",
       "      <td>0</td>\n",
       "      <td>no</td>\n",
       "    </tr>\n",
       "    <tr>\n",
       "      <th>2</th>\n",
       "      <td>33</td>\n",
       "      <td>secondary</td>\n",
       "      <td>2</td>\n",
       "      <td>unknown</td>\n",
       "      <td>76</td>\n",
       "      <td>1</td>\n",
       "      <td>-1</td>\n",
       "      <td>0</td>\n",
       "      <td>no</td>\n",
       "    </tr>\n",
       "    <tr>\n",
       "      <th>3</th>\n",
       "      <td>47</td>\n",
       "      <td>unknown</td>\n",
       "      <td>1506</td>\n",
       "      <td>unknown</td>\n",
       "      <td>92</td>\n",
       "      <td>1</td>\n",
       "      <td>-1</td>\n",
       "      <td>0</td>\n",
       "      <td>no</td>\n",
       "    </tr>\n",
       "    <tr>\n",
       "      <th>4</th>\n",
       "      <td>33</td>\n",
       "      <td>unknown</td>\n",
       "      <td>1</td>\n",
       "      <td>unknown</td>\n",
       "      <td>198</td>\n",
       "      <td>1</td>\n",
       "      <td>-1</td>\n",
       "      <td>0</td>\n",
       "      <td>no</td>\n",
       "    </tr>\n",
       "  </tbody>\n",
       "</table>\n",
       "</div>"
      ],
      "text/plain": [
       "   age  education  balance  contact  duration  campaign  pdays  previous   y\n",
       "0   58   tertiary     2143  unknown       261         1     -1         0  no\n",
       "1   44  secondary       29  unknown       151         1     -1         0  no\n",
       "2   33  secondary        2  unknown        76         1     -1         0  no\n",
       "3   47    unknown     1506  unknown        92         1     -1         0  no\n",
       "4   33    unknown        1  unknown       198         1     -1         0  no"
      ]
     },
     "execution_count": 5,
     "metadata": {},
     "output_type": "execute_result"
    }
   ],
   "source": [
    "bnk_fi=bnk_f.drop(bnk_f.iloc[:,[1,2,4,6,7,9,10,-2]],axis=1)\n",
    "bnk_fi.head()"
   ]
  },
  {
   "cell_type": "code",
   "execution_count": null,
   "id": "66b086b2",
   "metadata": {},
   "outputs": [],
   "source": []
  },
  {
   "cell_type": "code",
   "execution_count": 6,
   "id": "fa1faba5",
   "metadata": {
    "scrolled": true
   },
   "outputs": [
    {
     "name": "stdout",
     "output_type": "stream",
     "text": [
      "<class 'pandas.core.frame.DataFrame'>\n",
      "RangeIndex: 45211 entries, 0 to 45210\n",
      "Data columns (total 9 columns):\n",
      " #   Column     Non-Null Count  Dtype \n",
      "---  ------     --------------  ----- \n",
      " 0   age        45211 non-null  int64 \n",
      " 1   education  45211 non-null  object\n",
      " 2   balance    45211 non-null  int64 \n",
      " 3   contact    45211 non-null  object\n",
      " 4   duration   45211 non-null  int64 \n",
      " 5   campaign   45211 non-null  int64 \n",
      " 6   pdays      45211 non-null  int64 \n",
      " 7   previous   45211 non-null  int64 \n",
      " 8   y          45211 non-null  object\n",
      "dtypes: int64(6), object(3)\n",
      "memory usage: 3.1+ MB\n"
     ]
    }
   ],
   "source": [
    "bnk_fi.info()"
   ]
  },
  {
   "cell_type": "code",
   "execution_count": 7,
   "id": "218f19b7",
   "metadata": {},
   "outputs": [],
   "source": [
    "#converting object or categorical datatypes into numerical form with the help of label encoder.\n",
    "def Encoder(bnk_fi):\n",
    "          columnsToEncode = list(bnk_fi.select_dtypes(include=['category','object']))\n",
    "          le = LabelEncoder()\n",
    "          for feature in columnsToEncode:\n",
    "              try:\n",
    "                  bnk_fi[feature] = le.fit_transform(bnk_fi[feature])\n",
    "              except:\n",
    "                  print('Error encoding '+feature)\n",
    "          return bnk_fi\n",
    "\n",
    "\n"
   ]
  },
  {
   "cell_type": "code",
   "execution_count": 8,
   "id": "6ec01e4c",
   "metadata": {},
   "outputs": [
    {
     "data": {
      "text/html": [
       "<div>\n",
       "<style scoped>\n",
       "    .dataframe tbody tr th:only-of-type {\n",
       "        vertical-align: middle;\n",
       "    }\n",
       "\n",
       "    .dataframe tbody tr th {\n",
       "        vertical-align: top;\n",
       "    }\n",
       "\n",
       "    .dataframe thead th {\n",
       "        text-align: right;\n",
       "    }\n",
       "</style>\n",
       "<table border=\"1\" class=\"dataframe\">\n",
       "  <thead>\n",
       "    <tr style=\"text-align: right;\">\n",
       "      <th></th>\n",
       "      <th>age</th>\n",
       "      <th>education</th>\n",
       "      <th>balance</th>\n",
       "      <th>contact</th>\n",
       "      <th>duration</th>\n",
       "      <th>campaign</th>\n",
       "      <th>pdays</th>\n",
       "      <th>previous</th>\n",
       "      <th>y</th>\n",
       "    </tr>\n",
       "  </thead>\n",
       "  <tbody>\n",
       "    <tr>\n",
       "      <th>0</th>\n",
       "      <td>58</td>\n",
       "      <td>2</td>\n",
       "      <td>2143</td>\n",
       "      <td>2</td>\n",
       "      <td>261</td>\n",
       "      <td>1</td>\n",
       "      <td>-1</td>\n",
       "      <td>0</td>\n",
       "      <td>0</td>\n",
       "    </tr>\n",
       "    <tr>\n",
       "      <th>1</th>\n",
       "      <td>44</td>\n",
       "      <td>1</td>\n",
       "      <td>29</td>\n",
       "      <td>2</td>\n",
       "      <td>151</td>\n",
       "      <td>1</td>\n",
       "      <td>-1</td>\n",
       "      <td>0</td>\n",
       "      <td>0</td>\n",
       "    </tr>\n",
       "    <tr>\n",
       "      <th>2</th>\n",
       "      <td>33</td>\n",
       "      <td>1</td>\n",
       "      <td>2</td>\n",
       "      <td>2</td>\n",
       "      <td>76</td>\n",
       "      <td>1</td>\n",
       "      <td>-1</td>\n",
       "      <td>0</td>\n",
       "      <td>0</td>\n",
       "    </tr>\n",
       "    <tr>\n",
       "      <th>3</th>\n",
       "      <td>47</td>\n",
       "      <td>3</td>\n",
       "      <td>1506</td>\n",
       "      <td>2</td>\n",
       "      <td>92</td>\n",
       "      <td>1</td>\n",
       "      <td>-1</td>\n",
       "      <td>0</td>\n",
       "      <td>0</td>\n",
       "    </tr>\n",
       "    <tr>\n",
       "      <th>4</th>\n",
       "      <td>33</td>\n",
       "      <td>3</td>\n",
       "      <td>1</td>\n",
       "      <td>2</td>\n",
       "      <td>198</td>\n",
       "      <td>1</td>\n",
       "      <td>-1</td>\n",
       "      <td>0</td>\n",
       "      <td>0</td>\n",
       "    </tr>\n",
       "    <tr>\n",
       "      <th>...</th>\n",
       "      <td>...</td>\n",
       "      <td>...</td>\n",
       "      <td>...</td>\n",
       "      <td>...</td>\n",
       "      <td>...</td>\n",
       "      <td>...</td>\n",
       "      <td>...</td>\n",
       "      <td>...</td>\n",
       "      <td>...</td>\n",
       "    </tr>\n",
       "    <tr>\n",
       "      <th>45206</th>\n",
       "      <td>51</td>\n",
       "      <td>2</td>\n",
       "      <td>825</td>\n",
       "      <td>0</td>\n",
       "      <td>977</td>\n",
       "      <td>3</td>\n",
       "      <td>-1</td>\n",
       "      <td>0</td>\n",
       "      <td>1</td>\n",
       "    </tr>\n",
       "    <tr>\n",
       "      <th>45207</th>\n",
       "      <td>71</td>\n",
       "      <td>0</td>\n",
       "      <td>1729</td>\n",
       "      <td>0</td>\n",
       "      <td>456</td>\n",
       "      <td>2</td>\n",
       "      <td>-1</td>\n",
       "      <td>0</td>\n",
       "      <td>1</td>\n",
       "    </tr>\n",
       "    <tr>\n",
       "      <th>45208</th>\n",
       "      <td>72</td>\n",
       "      <td>1</td>\n",
       "      <td>5715</td>\n",
       "      <td>0</td>\n",
       "      <td>1127</td>\n",
       "      <td>5</td>\n",
       "      <td>184</td>\n",
       "      <td>3</td>\n",
       "      <td>1</td>\n",
       "    </tr>\n",
       "    <tr>\n",
       "      <th>45209</th>\n",
       "      <td>57</td>\n",
       "      <td>1</td>\n",
       "      <td>668</td>\n",
       "      <td>1</td>\n",
       "      <td>508</td>\n",
       "      <td>4</td>\n",
       "      <td>-1</td>\n",
       "      <td>0</td>\n",
       "      <td>0</td>\n",
       "    </tr>\n",
       "    <tr>\n",
       "      <th>45210</th>\n",
       "      <td>37</td>\n",
       "      <td>1</td>\n",
       "      <td>2971</td>\n",
       "      <td>0</td>\n",
       "      <td>361</td>\n",
       "      <td>2</td>\n",
       "      <td>188</td>\n",
       "      <td>11</td>\n",
       "      <td>0</td>\n",
       "    </tr>\n",
       "  </tbody>\n",
       "</table>\n",
       "<p>45211 rows × 9 columns</p>\n",
       "</div>"
      ],
      "text/plain": [
       "       age  education  balance  contact  duration  campaign  pdays  previous  \\\n",
       "0       58          2     2143        2       261         1     -1         0   \n",
       "1       44          1       29        2       151         1     -1         0   \n",
       "2       33          1        2        2        76         1     -1         0   \n",
       "3       47          3     1506        2        92         1     -1         0   \n",
       "4       33          3        1        2       198         1     -1         0   \n",
       "...    ...        ...      ...      ...       ...       ...    ...       ...   \n",
       "45206   51          2      825        0       977         3     -1         0   \n",
       "45207   71          0     1729        0       456         2     -1         0   \n",
       "45208   72          1     5715        0      1127         5    184         3   \n",
       "45209   57          1      668        1       508         4     -1         0   \n",
       "45210   37          1     2971        0       361         2    188        11   \n",
       "\n",
       "       y  \n",
       "0      0  \n",
       "1      0  \n",
       "2      0  \n",
       "3      0  \n",
       "4      0  \n",
       "...   ..  \n",
       "45206  1  \n",
       "45207  1  \n",
       "45208  1  \n",
       "45209  0  \n",
       "45210  0  \n",
       "\n",
       "[45211 rows x 9 columns]"
      ]
     },
     "execution_count": 8,
     "metadata": {},
     "output_type": "execute_result"
    }
   ],
   "source": [
    "Encoder(bnk_fi)"
   ]
  },
  {
   "cell_type": "code",
   "execution_count": 9,
   "id": "9f382d24",
   "metadata": {},
   "outputs": [
    {
     "data": {
      "text/html": [
       "<div>\n",
       "<style scoped>\n",
       "    .dataframe tbody tr th:only-of-type {\n",
       "        vertical-align: middle;\n",
       "    }\n",
       "\n",
       "    .dataframe tbody tr th {\n",
       "        vertical-align: top;\n",
       "    }\n",
       "\n",
       "    .dataframe thead th {\n",
       "        text-align: right;\n",
       "    }\n",
       "</style>\n",
       "<table border=\"1\" class=\"dataframe\">\n",
       "  <thead>\n",
       "    <tr style=\"text-align: right;\">\n",
       "      <th></th>\n",
       "      <th>count</th>\n",
       "      <th>mean</th>\n",
       "      <th>std</th>\n",
       "      <th>min</th>\n",
       "      <th>25%</th>\n",
       "      <th>50%</th>\n",
       "      <th>75%</th>\n",
       "      <th>max</th>\n",
       "    </tr>\n",
       "  </thead>\n",
       "  <tbody>\n",
       "    <tr>\n",
       "      <th>age</th>\n",
       "      <td>45211.0</td>\n",
       "      <td>40.936</td>\n",
       "      <td>10.619</td>\n",
       "      <td>18.0</td>\n",
       "      <td>33.0</td>\n",
       "      <td>39.0</td>\n",
       "      <td>48.0</td>\n",
       "      <td>95.0</td>\n",
       "    </tr>\n",
       "    <tr>\n",
       "      <th>education</th>\n",
       "      <td>45211.0</td>\n",
       "      <td>1.225</td>\n",
       "      <td>0.748</td>\n",
       "      <td>0.0</td>\n",
       "      <td>1.0</td>\n",
       "      <td>1.0</td>\n",
       "      <td>2.0</td>\n",
       "      <td>3.0</td>\n",
       "    </tr>\n",
       "    <tr>\n",
       "      <th>balance</th>\n",
       "      <td>45211.0</td>\n",
       "      <td>1362.272</td>\n",
       "      <td>3044.766</td>\n",
       "      <td>-8019.0</td>\n",
       "      <td>72.0</td>\n",
       "      <td>448.0</td>\n",
       "      <td>1428.0</td>\n",
       "      <td>102127.0</td>\n",
       "    </tr>\n",
       "    <tr>\n",
       "      <th>contact</th>\n",
       "      <td>45211.0</td>\n",
       "      <td>0.640</td>\n",
       "      <td>0.898</td>\n",
       "      <td>0.0</td>\n",
       "      <td>0.0</td>\n",
       "      <td>0.0</td>\n",
       "      <td>2.0</td>\n",
       "      <td>2.0</td>\n",
       "    </tr>\n",
       "    <tr>\n",
       "      <th>duration</th>\n",
       "      <td>45211.0</td>\n",
       "      <td>258.163</td>\n",
       "      <td>257.528</td>\n",
       "      <td>0.0</td>\n",
       "      <td>103.0</td>\n",
       "      <td>180.0</td>\n",
       "      <td>319.0</td>\n",
       "      <td>4918.0</td>\n",
       "    </tr>\n",
       "    <tr>\n",
       "      <th>campaign</th>\n",
       "      <td>45211.0</td>\n",
       "      <td>2.764</td>\n",
       "      <td>3.098</td>\n",
       "      <td>1.0</td>\n",
       "      <td>1.0</td>\n",
       "      <td>2.0</td>\n",
       "      <td>3.0</td>\n",
       "      <td>63.0</td>\n",
       "    </tr>\n",
       "    <tr>\n",
       "      <th>pdays</th>\n",
       "      <td>45211.0</td>\n",
       "      <td>40.198</td>\n",
       "      <td>100.129</td>\n",
       "      <td>-1.0</td>\n",
       "      <td>-1.0</td>\n",
       "      <td>-1.0</td>\n",
       "      <td>-1.0</td>\n",
       "      <td>871.0</td>\n",
       "    </tr>\n",
       "    <tr>\n",
       "      <th>previous</th>\n",
       "      <td>45211.0</td>\n",
       "      <td>0.580</td>\n",
       "      <td>2.303</td>\n",
       "      <td>0.0</td>\n",
       "      <td>0.0</td>\n",
       "      <td>0.0</td>\n",
       "      <td>0.0</td>\n",
       "      <td>275.0</td>\n",
       "    </tr>\n",
       "    <tr>\n",
       "      <th>y</th>\n",
       "      <td>45211.0</td>\n",
       "      <td>0.117</td>\n",
       "      <td>0.321</td>\n",
       "      <td>0.0</td>\n",
       "      <td>0.0</td>\n",
       "      <td>0.0</td>\n",
       "      <td>0.0</td>\n",
       "      <td>1.0</td>\n",
       "    </tr>\n",
       "  </tbody>\n",
       "</table>\n",
       "</div>"
      ],
      "text/plain": [
       "             count      mean       std     min    25%    50%     75%       max\n",
       "age        45211.0    40.936    10.619    18.0   33.0   39.0    48.0      95.0\n",
       "education  45211.0     1.225     0.748     0.0    1.0    1.0     2.0       3.0\n",
       "balance    45211.0  1362.272  3044.766 -8019.0   72.0  448.0  1428.0  102127.0\n",
       "contact    45211.0     0.640     0.898     0.0    0.0    0.0     2.0       2.0\n",
       "duration   45211.0   258.163   257.528     0.0  103.0  180.0   319.0    4918.0\n",
       "campaign   45211.0     2.764     3.098     1.0    1.0    2.0     3.0      63.0\n",
       "pdays      45211.0    40.198   100.129    -1.0   -1.0   -1.0    -1.0     871.0\n",
       "previous   45211.0     0.580     2.303     0.0    0.0    0.0     0.0     275.0\n",
       "y          45211.0     0.117     0.321     0.0    0.0    0.0     0.0       1.0"
      ]
     },
     "execution_count": 9,
     "metadata": {},
     "output_type": "execute_result"
    }
   ],
   "source": [
    "bnk_fi.describe().round(3).T"
   ]
  },
  {
   "cell_type": "code",
   "execution_count": 10,
   "id": "9e56f7f0",
   "metadata": {},
   "outputs": [
    {
     "name": "stdout",
     "output_type": "stream",
     "text": [
      "age\n"
     ]
    },
    {
     "data": {
      "image/png": "[encoded data removed]",
      "text/plain": [
       "<Figure size 1440x504 with 1 Axes>"
      ]
     },
     "metadata": {
      "needs_background": "light"
     },
     "output_type": "display_data"
    },
    {
     "name": "stdout",
     "output_type": "stream",
     "text": [
      "education\n"
     ]
    },
    {
     "data": {
      "image/png": "[encoded data removed]",
      "text/plain": [
       "<Figure size 1440x504 with 1 Axes>"
      ]
     },
     "metadata": {
      "needs_background": "light"
     },
     "output_type": "display_data"
    },
    {
     "name": "stdout",
     "output_type": "stream",
     "text": [
      "balance\n"
     ]
    },
    {
     "data": {
      "image/png": "[encoded data removed]",
      "text/plain": [
       "<Figure size 1440x504 with 1 Axes>"
      ]
     },
     "metadata": {
      "needs_background": "light"
     },
     "output_type": "display_data"
    },
    {
     "name": "stdout",
     "output_type": "stream",
     "text": [
      "contact\n"
     ]
    },
    {
     "data": {
      "image/png": "[encoded data removed]",
      "text/plain": [
       "<Figure size 1440x504 with 1 Axes>"
      ]
     },
     "metadata": {
      "needs_background": "light"
     },
     "output_type": "display_data"
    },
    {
     "name": "stdout",
     "output_type": "stream",
     "text": [
      "duration\n"
     ]
    },
    {
     "data": {
      "image/png": "[encoded data removed]",
      "text/plain": [
       "<Figure size 1440x504 with 1 Axes>"
      ]
     },
     "metadata": {
      "needs_background": "light"
     },
     "output_type": "display_data"
    },
    {
     "name": "stdout",
     "output_type": "stream",
     "text": [
      "campaign\n"
     ]
    },
    {
     "data": {
      "image/png": "[encoded data removed]",
      "text/plain": [
       "<Figure size 1440x504 with 1 Axes>"
      ]
     },
     "metadata": {
      "needs_background": "light"
     },
     "output_type": "display_data"
    },
    {
     "name": "stdout",
     "output_type": "stream",
     "text": [
      "pdays\n"
     ]
    },
    {
     "data": {
      "image/png": "[encoded data removed]",
      "text/plain": [
       "<Figure size 1440x504 with 1 Axes>"
      ]
     },
     "metadata": {
      "needs_background": "light"
     },
     "output_type": "display_data"
    },
    {
     "name": "stdout",
     "output_type": "stream",
     "text": [
      "previous\n"
     ]
    },
    {
     "data": {
      "image/png": "[encoded data removed]",
      "text/plain": [
       "<Figure size 1440x504 with 1 Axes>"
      ]
     },
     "metadata": {
      "needs_background": "light"
     },
     "output_type": "display_data"
    },
    {
     "name": "stdout",
     "output_type": "stream",
     "text": [
      "y\n"
     ]
    },
    {
     "data": {
      "image/png": "[encoded data removed]",
      "text/plain": [
       "<Figure size 1440x504 with 1 Axes>"
      ]
     },
     "metadata": {
      "needs_background": "light"
     },
     "output_type": "display_data"
    }
   ],
   "source": [
    "bnk_hist=bnk_fi.select_dtypes(include='number')\n",
    "b=[]\n",
    "for i in bnk_hist:\n",
    "    print(i)\n",
    "    plt.figure(figsize=(20,7))\n",
    "    plt.hist(bnk_fi['age'])\n",
    "    plt.show()"
   ]
  },
  {
   "cell_type": "code",
   "execution_count": 11,
   "id": "a790a385",
   "metadata": {},
   "outputs": [],
   "source": [
    "\n",
    "outliers=[]\n",
    "def outlier_values(bnk_fi):\n",
    "    q1,q3=np.percentile(bnk_fi,[25,75])\n",
    "    iqr=q3-q1\n",
    "    lq=iqr*1.5-q1\n",
    "    uq=iqr*1.5+q3\n",
    "    \n",
    "    for i in bnk_fi:\n",
    "        if i<lq or i>uq:\n",
    "            outliers.append(i)\n",
    "    return outliers  "
   ]
  },
  {
   "cell_type": "code",
   "execution_count": 12,
   "id": "bec20cd4",
   "metadata": {},
   "outputs": [
    {
     "data": {
      "text/plain": [
       "[83,\n",
       " 75,\n",
       " 75,\n",
       " 83,\n",
       " 75,\n",
       " 72,\n",
       " 71,\n",
       " 76,\n",
       " 83,\n",
       " 71,\n",
       " 85,\n",
       " 72,\n",
       " 90,\n",
       " 71,\n",
       " 82,\n",
       " 73,\n",
       " 74,\n",
       " 71,\n",
       " 75,\n",
       " 78,\n",
       " 85,\n",
       " 80,\n",
       " 71,\n",
       " 78,\n",
       " 73,\n",
       " 75,\n",
       " 94,\n",
       " 72,\n",
       " 83,\n",
       " 79,\n",
       " 78,\n",
       " 83,\n",
       " 73,\n",
       " 76,\n",
       " 83,\n",
       " 77,\n",
       " 73,\n",
       " 74,\n",
       " 73,\n",
       " 77,\n",
       " 71,\n",
       " 71,\n",
       " 80,\n",
       " 82,\n",
       " 75,\n",
       " 77,\n",
       " 78,\n",
       " 78,\n",
       " 86,\n",
       " 76,\n",
       " 72,\n",
       " 74,\n",
       " 77,\n",
       " 74,\n",
       " 79,\n",
       " 71,\n",
       " 74,\n",
       " 78,\n",
       " 73,\n",
       " 73,\n",
       " 95,\n",
       " 74,\n",
       " 71,\n",
       " 78,\n",
       " 71,\n",
       " 75,\n",
       " 75,\n",
       " 82,\n",
       " 74,\n",
       " 81,\n",
       " 76,\n",
       " 72,\n",
       " 75,\n",
       " 72,\n",
       " 71,\n",
       " 72,\n",
       " 77,\n",
       " 73,\n",
       " 85,\n",
       " 83,\n",
       " 78,\n",
       " 73,\n",
       " 79,\n",
       " 71,\n",
       " 71,\n",
       " 80,\n",
       " 72,\n",
       " 78,\n",
       " 79,\n",
       " 71,\n",
       " 82,\n",
       " 81,\n",
       " 79,\n",
       " 71,\n",
       " 79,\n",
       " 79,\n",
       " 73,\n",
       " 75,\n",
       " 72,\n",
       " 71,\n",
       " 75,\n",
       " 78,\n",
       " 75,\n",
       " 80,\n",
       " 80,\n",
       " 74,\n",
       " 73,\n",
       " 71,\n",
       " 72,\n",
       " 72,\n",
       " 77,\n",
       " 79,\n",
       " 73,\n",
       " 71,\n",
       " 80,\n",
       " 71,\n",
       " 83,\n",
       " 71,\n",
       " 73,\n",
       " 78,\n",
       " 72,\n",
       " 81,\n",
       " 81,\n",
       " 71,\n",
       " 74,\n",
       " 75,\n",
       " 82,\n",
       " 80,\n",
       " 76,\n",
       " 74,\n",
       " 74,\n",
       " 77,\n",
       " 71,\n",
       " 71,\n",
       " 77,\n",
       " 76,\n",
       " 72,\n",
       " 74,\n",
       " 74,\n",
       " 72,\n",
       " 73,\n",
       " 82,\n",
       " 77,\n",
       " 71,\n",
       " 79,\n",
       " 89,\n",
       " 76,\n",
       " 81,\n",
       " 74,\n",
       " 73,\n",
       " 71,\n",
       " 71,\n",
       " 77,\n",
       " 72,\n",
       " 84,\n",
       " 86,\n",
       " 72,\n",
       " 72,\n",
       " 76,\n",
       " 73,\n",
       " 74,\n",
       " 82,\n",
       " 71,\n",
       " 83,\n",
       " 72,\n",
       " 73,\n",
       " 73,\n",
       " 74,\n",
       " 72,\n",
       " 78,\n",
       " 86,\n",
       " 76,\n",
       " 79,\n",
       " 71,\n",
       " 81,\n",
       " 77,\n",
       " 82,\n",
       " 72,\n",
       " 73,\n",
       " 73,\n",
       " 74,\n",
       " 71,\n",
       " 73,\n",
       " 76,\n",
       " 71,\n",
       " 71,\n",
       " 83,\n",
       " 71,\n",
       " 80,\n",
       " 79,\n",
       " 77,\n",
       " 74,\n",
       " 84,\n",
       " 95,\n",
       " 77,\n",
       " 78,\n",
       " 79,\n",
       " 83,\n",
       " 83,\n",
       " 73,\n",
       " 77,\n",
       " 72,\n",
       " 74,\n",
       " 83,\n",
       " 76,\n",
       " 73,\n",
       " 81,\n",
       " 80,\n",
       " 75,\n",
       " 74,\n",
       " 75,\n",
       " 77,\n",
       " 83,\n",
       " 72,\n",
       " 81,\n",
       " 73,\n",
       " 74,\n",
       " 80,\n",
       " 72,\n",
       " 76,\n",
       " 72,\n",
       " 77,\n",
       " 74,\n",
       " 87,\n",
       " 76,\n",
       " 92,\n",
       " 78,\n",
       " 82,\n",
       " 78,\n",
       " 76,\n",
       " 73,\n",
       " 77,\n",
       " 76,\n",
       " 73,\n",
       " 82,\n",
       " 81,\n",
       " 80,\n",
       " 71,\n",
       " 76,\n",
       " 74,\n",
       " 75,\n",
       " 72,\n",
       " 80,\n",
       " 84,\n",
       " 87,\n",
       " 72,\n",
       " 76,\n",
       " 78,\n",
       " 73,\n",
       " 78,\n",
       " 81,\n",
       " 76,\n",
       " 71,\n",
       " 79,\n",
       " 73,\n",
       " 72,\n",
       " 82,\n",
       " 77,\n",
       " 72,\n",
       " 75,\n",
       " 76,\n",
       " 81,\n",
       " 77,\n",
       " 71,\n",
       " 75,\n",
       " 74,\n",
       " 75,\n",
       " 71,\n",
       " 78,\n",
       " 72,\n",
       " 77,\n",
       " 83,\n",
       " 72,\n",
       " 73,\n",
       " 81,\n",
       " 72,\n",
       " 80,\n",
       " 80,\n",
       " 86,\n",
       " 79,\n",
       " 71,\n",
       " 72,\n",
       " 79,\n",
       " 87,\n",
       " 81,\n",
       " 72,\n",
       " 75,\n",
       " 72,\n",
       " 84,\n",
       " 78,\n",
       " 89,\n",
       " 72,\n",
       " 73,\n",
       " 85,\n",
       " 87,\n",
       " 80,\n",
       " 81,\n",
       " 85,\n",
       " 79,\n",
       " 76,\n",
       " 74,\n",
       " 92,\n",
       " 77,\n",
       " 74,\n",
       " 81,\n",
       " 71,\n",
       " 73,\n",
       " 76,\n",
       " 80,\n",
       " 82,\n",
       " 72,\n",
       " 77,\n",
       " 76,\n",
       " 72,\n",
       " 78,\n",
       " 77,\n",
       " 74,\n",
       " 76,\n",
       " 77,\n",
       " 80,\n",
       " 76,\n",
       " 76,\n",
       " 71,\n",
       " 73,\n",
       " 84,\n",
       " 79,\n",
       " 77,\n",
       " 75,\n",
       " 76,\n",
       " 75,\n",
       " 71,\n",
       " 75,\n",
       " 75,\n",
       " 77,\n",
       " 82,\n",
       " 80,\n",
       " 72,\n",
       " 79,\n",
       " 78,\n",
       " 77,\n",
       " 71,\n",
       " 74,\n",
       " 71,\n",
       " 73,\n",
       " 90,\n",
       " 73,\n",
       " 83,\n",
       " 73,\n",
       " 76,\n",
       " 71,\n",
       " 79,\n",
       " 75,\n",
       " 80,\n",
       " 72,\n",
       " 77,\n",
       " 74,\n",
       " 82,\n",
       " 71,\n",
       " 75,\n",
       " 86,\n",
       " 86,\n",
       " 72,\n",
       " 77,\n",
       " 82,\n",
       " 72,\n",
       " 80,\n",
       " 84,\n",
       " 86,\n",
       " 80,\n",
       " 78,\n",
       " 73,\n",
       " 71,\n",
       " 80,\n",
       " 75,\n",
       " 73,\n",
       " 74,\n",
       " 76,\n",
       " 76,\n",
       " 73,\n",
       " 77,\n",
       " 80,\n",
       " 77,\n",
       " 76,\n",
       " 79,\n",
       " 77,\n",
       " 80,\n",
       " 74,\n",
       " 72,\n",
       " 77,\n",
       " 83,\n",
       " 80,\n",
       " 78,\n",
       " 78,\n",
       " 77,\n",
       " 75,\n",
       " 72,\n",
       " 74,\n",
       " 79,\n",
       " 73,\n",
       " 84,\n",
       " 78,\n",
       " 71,\n",
       " 78,\n",
       " 83,\n",
       " 80,\n",
       " 83,\n",
       " 73,\n",
       " 71,\n",
       " 76,\n",
       " 75,\n",
       " 71,\n",
       " 75,\n",
       " 72,\n",
       " 77,\n",
       " 74,\n",
       " 72,\n",
       " 71,\n",
       " 80,\n",
       " 79,\n",
       " 74,\n",
       " 72,\n",
       " 72,\n",
       " 80,\n",
       " 79,\n",
       " 86,\n",
       " 73,\n",
       " 93,\n",
       " 82,\n",
       " 82,\n",
       " 77,\n",
       " 71,\n",
       " 83,\n",
       " 80,\n",
       " 76,\n",
       " 78,\n",
       " 80,\n",
       " 93,\n",
       " 82,\n",
       " 71,\n",
       " 79,\n",
       " 75,\n",
       " 77,\n",
       " 77,\n",
       " 75,\n",
       " 77,\n",
       " 75,\n",
       " 88,\n",
       " 83,\n",
       " 72,\n",
       " 84,\n",
       " 77,\n",
       " 80,\n",
       " 84,\n",
       " 75,\n",
       " 83,\n",
       " 72,\n",
       " 75,\n",
       " 74,\n",
       " 88,\n",
       " 72,\n",
       " 74,\n",
       " 75,\n",
       " 78,\n",
       " 81,\n",
       " 82,\n",
       " 89,\n",
       " 81,\n",
       " 72,\n",
       " 77,\n",
       " 71,\n",
       " 79,\n",
       " 73,\n",
       " 75,\n",
       " 86,\n",
       " 75,\n",
       " 77,\n",
       " 77,\n",
       " 74,\n",
       " 73,\n",
       " 78,\n",
       " 78,\n",
       " 77,\n",
       " 71,\n",
       " 75,\n",
       " 73,\n",
       " 71,\n",
       " 72]"
      ]
     },
     "execution_count": 12,
     "metadata": {},
     "output_type": "execute_result"
    }
   ],
   "source": [
    "outlier_values(bnk_fi['age'])"
   ]
  },
  {
   "cell_type": "code",
   "execution_count": 13,
   "id": "7e73510a",
   "metadata": {},
   "outputs": [
    {
     "name": "stdout",
     "output_type": "stream",
     "text": [
      "Highest allowed 72.79249633725466\n",
      "Lowest allowed 9.079924091402077\n"
     ]
    }
   ],
   "source": [
    "print(\"Highest allowed\",bnk_fi['age'].mean() + 3*bnk_fi['age'].std())\n",
    "print(\"Lowest allowed\",bnk_fi['age'].mean() - 3*bnk_fi['age'].std())"
   ]
  },
  {
   "cell_type": "code",
   "execution_count": 14,
   "id": "729533ef",
   "metadata": {},
   "outputs": [
    {
     "name": "stdout",
     "output_type": "stream",
     "text": [
      "age\n"
     ]
    },
    {
     "data": {
      "image/png": "[encoded data removed]",
      "text/plain": [
       "<Figure size 432x288 with 1 Axes>"
      ]
     },
     "metadata": {
      "needs_background": "light"
     },
     "output_type": "display_data"
    },
    {
     "name": "stdout",
     "output_type": "stream",
     "text": [
      "education\n"
     ]
    },
    {
     "data": {
      "image/png": "[encoded data removed]",
      "text/plain": [
       "<Figure size 432x288 with 1 Axes>"
      ]
     },
     "metadata": {
      "needs_background": "light"
     },
     "output_type": "display_data"
    },
    {
     "name": "stdout",
     "output_type": "stream",
     "text": [
      "balance\n"
     ]
    },
    {
     "data": {
      "image/png": "[encoded data removed]",
      "text/plain": [
       "<Figure size 432x288 with 1 Axes>"
      ]
     },
     "metadata": {
      "needs_background": "light"
     },
     "output_type": "display_data"
    },
    {
     "name": "stdout",
     "output_type": "stream",
     "text": [
      "contact\n"
     ]
    },
    {
     "data": {
      "image/png": "[encoded data removed]",
      "text/plain": [
       "<Figure size 432x288 with 1 Axes>"
      ]
     },
     "metadata": {
      "needs_background": "light"
     },
     "output_type": "display_data"
    },
    {
     "name": "stdout",
     "output_type": "stream",
     "text": [
      "duration\n"
     ]
    },
    {
     "data": {
      "image/png": "[encoded data removed]",
      "text/plain": [
       "<Figure size 432x288 with 1 Axes>"
      ]
     },
     "metadata": {
      "needs_background": "light"
     },
     "output_type": "display_data"
    },
    {
     "name": "stdout",
     "output_type": "stream",
     "text": [
      "campaign\n"
     ]
    },
    {
     "data": {
      "image/png": "[encoded data removed]",
      "text/plain": [
       "<Figure size 432x288 with 1 Axes>"
      ]
     },
     "metadata": {
      "needs_background": "light"
     },
     "output_type": "display_data"
    },
    {
     "name": "stdout",
     "output_type": "stream",
     "text": [
      "pdays\n"
     ]
    },
    {
     "data": {
      "image/png": "[encoded data removed]",
      "text/plain": [
       "<Figure size 432x288 with 1 Axes>"
      ]
     },
     "metadata": {
      "needs_background": "light"
     },
     "output_type": "display_data"
    },
    {
     "name": "stdout",
     "output_type": "stream",
     "text": [
      "previous\n"
     ]
    },
    {
     "data": {
      "image/png": "[encoded data removed]",
      "text/plain": [
       "<Figure size 432x288 with 1 Axes>"
      ]
     },
     "metadata": {
      "needs_background": "light"
     },
     "output_type": "display_data"
    },
    {
     "name": "stdout",
     "output_type": "stream",
     "text": [
      "y\n"
     ]
    },
    {
     "data": {
      "image/png": "[encoded data removed]",
      "text/plain": [
       "<Figure size 432x288 with 1 Axes>"
      ]
     },
     "metadata": {
      "needs_background": "light"
     },
     "output_type": "display_data"
    }
   ],
   "source": [
    "\n",
    "bnk_num=bnk_fi.select_dtypes(include='number')\n",
    "a=[]\n",
    "for i in bnk_num:\n",
    "    print(i)\n",
    "    plt.boxplot(bnk_num[i])\n",
    "    plt.show()"
   ]
  },
  {
   "cell_type": "code",
   "execution_count": 15,
   "id": "a3d287b7",
   "metadata": {},
   "outputs": [],
   "source": [
    "bnk_fi[bnk_fi.duplicated()]\n",
    "bnk_fi=bnk_fi.drop_duplicates()"
   ]
  },
  {
   "cell_type": "code",
   "execution_count": 16,
   "id": "a40698d8",
   "metadata": {},
   "outputs": [
    {
     "name": "stdout",
     "output_type": "stream",
     "text": [
      "<class 'pandas.core.frame.DataFrame'>\n",
      "Int64Index: 45194 entries, 0 to 45210\n",
      "Data columns (total 9 columns):\n",
      " #   Column     Non-Null Count  Dtype\n",
      "---  ------     --------------  -----\n",
      " 0   age        45194 non-null  int64\n",
      " 1   education  45194 non-null  int32\n",
      " 2   balance    45194 non-null  int64\n",
      " 3   contact    45194 non-null  int32\n",
      " 4   duration   45194 non-null  int64\n",
      " 5   campaign   45194 non-null  int64\n",
      " 6   pdays      45194 non-null  int64\n",
      " 7   previous   45194 non-null  int64\n",
      " 8   y          45194 non-null  int32\n",
      "dtypes: int32(3), int64(6)\n",
      "memory usage: 2.9 MB\n"
     ]
    }
   ],
   "source": [
    "bnk_fi.info()"
   ]
  },
  {
   "cell_type": "code",
   "execution_count": null,
   "id": "2aeb8df1",
   "metadata": {},
   "outputs": [],
   "source": []
  },
  {
   "cell_type": "code",
   "execution_count": 18,
   "id": "7fa34004",
   "metadata": {},
   "outputs": [],
   "source": [
    "#Dividing whole data into test and train data.\n",
    "x=bnk_fi.drop(['y'],axis=1)\n",
    "y=bnk_fi.iloc[:,8]\n",
    "x_train,x_test,y_train,y_test=train_test_split(x,y,test_size=0.20,random_state=42)"
   ]
  },
  {
   "cell_type": "code",
   "execution_count": 19,
   "id": "f84b724d",
   "metadata": {},
   "outputs": [],
   "source": [
    "from sklearn.preprocessing import PolynomialFeatures\n",
    "poly=PolynomialFeatures()\n",
    "x=poly.fit_transform(x)"
   ]
  },
  {
   "cell_type": "code",
   "execution_count": 20,
   "id": "d7b20268",
   "metadata": {},
   "outputs": [],
   "source": [
    "#from sklearn.preprocessing import StandardScaler\n",
    "#ss=StandardScaler()\n",
    "#x_train=ss.fit_transform(x_train)\n",
    "#x_test=ss.fit(x_test)"
   ]
  },
  {
   "cell_type": "code",
   "execution_count": 21,
   "id": "5e9ba6a9",
   "metadata": {},
   "outputs": [
    {
     "name": "stderr",
     "output_type": "stream",
     "text": [
      "C:\\Users\\lenovo\\anaconda3\\lib\\site-packages\\sklearn\\linear_model\\_logistic.py:458: ConvergenceWarning: lbfgs failed to converge (status=1):\n",
      "STOP: TOTAL NO. of ITERATIONS REACHED LIMIT.\n",
      "\n",
      "Increase the number of iterations (max_iter) or scale the data as shown in:\n",
      "    https://scikit-learn.org/stable/modules/preprocessing.html\n",
      "Please also refer to the documentation for alternative solver options:\n",
      "    https://scikit-learn.org/stable/modules/linear_model.html#logistic-regression\n",
      "  n_iter_i = _check_optimize_result(\n"
     ]
    },
    {
     "data": {
      "text/plain": [
       "array([0, 0, 0, ..., 0, 0, 0])"
      ]
     },
     "execution_count": 21,
     "metadata": {},
     "output_type": "execute_result"
    }
   ],
   "source": [
    "le=LogisticRegression()\n",
    "model=le.fit(x_train,y_train)\n",
    "y_pred=le.predict(x_test)\n",
    "y_pred"
   ]
  },
  {
   "cell_type": "code",
   "execution_count": 22,
   "id": "42274648",
   "metadata": {},
   "outputs": [
    {
     "data": {
      "text/plain": [
       "array([0, 0, 0, ..., 0, 0, 0])"
      ]
     },
     "execution_count": 22,
     "metadata": {},
     "output_type": "execute_result"
    }
   ],
   "source": [
    "#y.value_counts()\n",
    "y_pred"
   ]
  },
  {
   "cell_type": "code",
   "execution_count": 23,
   "id": "c796b4cc",
   "metadata": {},
   "outputs": [
    {
     "name": "stdout",
     "output_type": "stream",
     "text": [
      "              precision    recall  f1-score   support\n",
      "\n",
      "           0       0.90      0.98      0.94      7958\n",
      "           1       0.57      0.19      0.28      1081\n",
      "\n",
      "    accuracy                           0.89      9039\n",
      "   macro avg       0.74      0.58      0.61      9039\n",
      "weighted avg       0.86      0.89      0.86      9039\n",
      "\n"
     ]
    }
   ],
   "source": [
    "from sklearn.metrics import classification_report\n",
    "print(classification_report(y_test,y_pred))"
   ]
  },
  {
   "cell_type": "code",
   "execution_count": 25,
   "id": "fbcf51aa",
   "metadata": {},
   "outputs": [],
   "source": [
    "y_pred_df= pd.DataFrame({'actual': y_test,\n",
    "                         'predicted_prob': y_pred})"
   ]
  },
  {
   "cell_type": "code",
   "execution_count": 26,
   "id": "dcb7aeba",
   "metadata": {},
   "outputs": [
    {
     "data": {
      "text/html": [
       "<div>\n",
       "<style scoped>\n",
       "    .dataframe tbody tr th:only-of-type {\n",
       "        vertical-align: middle;\n",
       "    }\n",
       "\n",
       "    .dataframe tbody tr th {\n",
       "        vertical-align: top;\n",
       "    }\n",
       "\n",
       "    .dataframe thead th {\n",
       "        text-align: right;\n",
       "    }\n",
       "</style>\n",
       "<table border=\"1\" class=\"dataframe\">\n",
       "  <thead>\n",
       "    <tr style=\"text-align: right;\">\n",
       "      <th></th>\n",
       "      <th>actual</th>\n",
       "      <th>predicted_prob</th>\n",
       "    </tr>\n",
       "  </thead>\n",
       "  <tbody>\n",
       "    <tr>\n",
       "      <th>38412</th>\n",
       "      <td>0</td>\n",
       "      <td>0</td>\n",
       "    </tr>\n",
       "    <tr>\n",
       "      <th>34785</th>\n",
       "      <td>0</td>\n",
       "      <td>0</td>\n",
       "    </tr>\n",
       "    <tr>\n",
       "      <th>12786</th>\n",
       "      <td>0</td>\n",
       "      <td>0</td>\n",
       "    </tr>\n",
       "    <tr>\n",
       "      <th>5042</th>\n",
       "      <td>0</td>\n",
       "      <td>0</td>\n",
       "    </tr>\n",
       "    <tr>\n",
       "      <th>11649</th>\n",
       "      <td>0</td>\n",
       "      <td>0</td>\n",
       "    </tr>\n",
       "    <tr>\n",
       "      <th>...</th>\n",
       "      <td>...</td>\n",
       "      <td>...</td>\n",
       "    </tr>\n",
       "    <tr>\n",
       "      <th>313</th>\n",
       "      <td>0</td>\n",
       "      <td>0</td>\n",
       "    </tr>\n",
       "    <tr>\n",
       "      <th>33419</th>\n",
       "      <td>0</td>\n",
       "      <td>0</td>\n",
       "    </tr>\n",
       "    <tr>\n",
       "      <th>44313</th>\n",
       "      <td>1</td>\n",
       "      <td>0</td>\n",
       "    </tr>\n",
       "    <tr>\n",
       "      <th>5963</th>\n",
       "      <td>0</td>\n",
       "      <td>0</td>\n",
       "    </tr>\n",
       "    <tr>\n",
       "      <th>31694</th>\n",
       "      <td>0</td>\n",
       "      <td>0</td>\n",
       "    </tr>\n",
       "  </tbody>\n",
       "</table>\n",
       "<p>9039 rows × 2 columns</p>\n",
       "</div>"
      ],
      "text/plain": [
       "       actual  predicted_prob\n",
       "38412       0               0\n",
       "34785       0               0\n",
       "12786       0               0\n",
       "5042        0               0\n",
       "11649       0               0\n",
       "...       ...             ...\n",
       "313         0               0\n",
       "33419       0               0\n",
       "44313       1               0\n",
       "5963        0               0\n",
       "31694       0               0\n",
       "\n",
       "[9039 rows x 2 columns]"
      ]
     },
     "execution_count": 26,
     "metadata": {},
     "output_type": "execute_result"
    }
   ],
   "source": [
    "y_pred_df"
   ]
  },
  {
   "cell_type": "code",
   "execution_count": null,
   "id": "5364d6ec",
   "metadata": {},
   "outputs": [],
   "source": []
  }
 ],
 "metadata": {
  "kernelspec": {
   "display_name": "Python 3 (ipykernel)",
   "language": "python",
   "name": "python3"
  },
  "language_info": {
   "codemirror_mode": {
    "name": "ipython",
    "version": 3
   },
   "file_extension": ".py",
   "mimetype": "text/x-python",
   "name": "python",
   "nbconvert_exporter": "python",
   "pygments_lexer": "ipython3",
   "version": "3.9.12"
  }
 },
 "nbformat": 4,
 "nbformat_minor": 5
}
